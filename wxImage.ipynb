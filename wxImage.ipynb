{
 "cells": [
  {
   "cell_type": "markdown",
   "metadata": {},
   "source": [
    "原文地址：[itchat+pillow实现微信好友头像爬取和拼接](https://zhuanlan.zhihu.com/p/25782937?group_id=826931026017292288)"
   ]
  },
  {
   "cell_type": "code",
   "execution_count": 1,
   "metadata": {},
   "outputs": [
    {
     "name": "stdout",
     "output_type": "stream",
     "text": [
      "3.6.5 |Anaconda, Inc.| (default, Mar 29 2018, 13:32:41) [MSC v.1900 64 bit (AMD64)]\n",
      "sys.version_info(major=3, minor=6, micro=5, releaselevel='final', serial=0)\n"
     ]
    }
   ],
   "source": [
    "#我的Python版本是：\n",
    "import sys  \n",
    "print (sys.version)   \n",
    "print (sys.version_info) "
   ]
  },
  {
   "cell_type": "markdown",
   "metadata": {},
   "source": [
    "这里我用Python2.7，实际上代码在Python3.6,3.5运行一切正常\n",
    "# 核心\n",
    "- itchat读取微信好友列表和头像\n",
    "- 用pillow拼接头像画图\n",
    "\n",
    "登录微信网页版，`itchat.auto_login()`会生成QR码，使用手机扫一扫即可登录。\n",
    "\n",
    "提示`Please scan the QR code to log in.`时，用手机扫描弹出的二维码\n",
    "\n",
    "[命令行二维码技巧：](https://itchat.readthedocs.io/zh/latest/#_4)\n",
    "1. 通过以下命令可以在登陆的时候使用命令行显示二维码：`itchat.auto_login(enableCmdQR=True)`\n",
    "2. 若背景色为浅色（白色），可以将enableCmdQR赋值为负值：`itchat.auto_login(enableCmdQR=-1)`\n"
   ]
  },
  {
   "cell_type": "code",
   "execution_count": 2,
   "metadata": {},
   "outputs": [
    {
     "name": "stdout",
     "output_type": "stream",
     "text": [
      "█\r"
     ]
    },
    {
     "name": "stderr",
     "output_type": "stream",
     "text": [
      "Getting uuid of QR code.\n",
      "Downloading QR code.\n",
      "Please scan the QR code to log in.\n",
      "Please press confirm on your phone.\n",
      "Loading the contact, this may take a little while.\n",
      "Login successfully as greedisgood\n"
     ]
    }
   ],
   "source": [
    "import itchat\n",
    "itchat.auto_login()"
   ]
  },
  {
   "cell_type": "markdown",
   "metadata": {},
   "source": [
    "使用`friends`储存好友列表，`update=True`可以确保好友列表是最新的。注意好友列表第0个是自己"
   ]
  },
  {
   "cell_type": "code",
   "execution_count": 3,
   "metadata": {},
   "outputs": [],
   "source": [
    "friends = itchat.get_friends(update=True)[0:]"
   ]
  },
  {
   "cell_type": "markdown",
   "metadata": {},
   "source": [
    "`friends`好友列表第0个是自己，我们可以看一下。顺带说一下，好友列表的顺序 **（貌似）** 是按照好友添加顺序"
   ]
  },
  {
   "cell_type": "code",
   "execution_count": 5,
   "metadata": {},
   "outputs": [
    {
     "data": {
      "text/plain": [
       "{'UserName': '@1f44203b640865173ce49026d9dfbd3109eedd4a0dd753863eb5bd6ed16f56b1',\n",
       " 'City': '',\n",
       " 'DisplayName': '',\n",
       " 'PYQuanPin': '',\n",
       " 'RemarkPYInitial': '',\n",
       " 'Province': '',\n",
       " 'KeyWord': '',\n",
       " 'RemarkName': '',\n",
       " 'PYInitial': '',\n",
       " 'EncryChatRoomId': '',\n",
       " 'Alias': '',\n",
       " 'Signature': '我买几个橘子去。你就在此地，不要走动。',\n",
       " 'NickName': 'greedisgood',\n",
       " 'RemarkPYQuanPin': '',\n",
       " 'HeadImgUrl': '/cgi-bin/mmwebwx-bin/webwxgeticon?seq=18888205&username=@1f44203b640865173ce49026d9dfbd3109eedd4a0dd753863eb5bd6ed16f56b1&skey=@crypt_1e355562_cbb32ae58ba3109f695ccf972f500980',\n",
       " 'UniFriend': 0,\n",
       " 'Sex': 1,\n",
       " 'AppAccountFlag': 0,\n",
       " 'VerifyFlag': 0,\n",
       " 'ChatRoomId': 0,\n",
       " 'HideInputBarFlag': 0,\n",
       " 'AttrStatus': 0,\n",
       " 'SnsFlag': 1,\n",
       " 'MemberCount': 0,\n",
       " 'OwnerUin': 0,\n",
       " 'ContactFlag': 0,\n",
       " 'Uin': 1601516715,\n",
       " 'StarFriend': 0,\n",
       " 'Statues': 0,\n",
       " 'MemberList': [],\n",
       " 'WebWxPluginSwitch': 0,\n",
       " 'HeadImgFlag': 1}"
      ]
     },
     "execution_count": 5,
     "metadata": {},
     "output_type": "execute_result"
    }
   ],
   "source": [
    "friends[0]"
   ]
  },
  {
   "cell_type": "markdown",
   "metadata": {},
   "source": [
    "创建一个目录，用来保存所有好友头像。注意使用`os.chdir(user)`切换个到工作目录，方便后续保存图片。\n",
    "\n"
   ]
  },
  {
   "cell_type": "code",
   "execution_count": 5,
   "metadata": {
    "scrolled": true
   },
   "outputs": [
    {
     "name": "stdout",
     "output_type": "stream",
     "text": [
      "\n"
     ]
    },
    {
     "ename": "FileNotFoundError",
     "evalue": "[WinError 3] 系统找不到指定的路径。: ''",
     "output_type": "error",
     "traceback": [
      "\u001b[1;31m----------------------------------------------------------------------\u001b[0m",
      "\u001b[1;31mFileNotFoundError\u001b[0m                    Traceback (most recent call last)",
      "\u001b[1;32m<ipython-input-5-5ec4674d78bf>\u001b[0m in \u001b[0;36m<module>\u001b[1;34m()\u001b[0m\n\u001b[0;32m      2\u001b[0m \u001b[0muser\u001b[0m \u001b[1;33m=\u001b[0m \u001b[0mfriends\u001b[0m\u001b[1;33m[\u001b[0m\u001b[1;36m0\u001b[0m\u001b[1;33m]\u001b[0m\u001b[1;33m[\u001b[0m\u001b[1;34m\"PYQuanPin\"\u001b[0m\u001b[1;33m]\u001b[0m\u001b[1;33m[\u001b[0m\u001b[1;36m0\u001b[0m\u001b[1;33m:\u001b[0m\u001b[1;33m]\u001b[0m\u001b[1;33m\u001b[0m\u001b[0m\n\u001b[0;32m      3\u001b[0m \u001b[0mprint\u001b[0m\u001b[1;33m(\u001b[0m\u001b[0muser\u001b[0m\u001b[1;33m)\u001b[0m\u001b[1;33m\u001b[0m\u001b[0m\n\u001b[1;32m----> 4\u001b[1;33m \u001b[0mos\u001b[0m\u001b[1;33m.\u001b[0m\u001b[0mmkdir\u001b[0m\u001b[1;33m(\u001b[0m\u001b[0muser\u001b[0m\u001b[1;33m)\u001b[0m\u001b[1;33m\u001b[0m\u001b[0m\n\u001b[0m\u001b[0;32m      5\u001b[0m \u001b[0mos\u001b[0m\u001b[1;33m.\u001b[0m\u001b[0mchdir\u001b[0m\u001b[1;33m(\u001b[0m\u001b[0muser\u001b[0m\u001b[1;33m)\u001b[0m\u001b[1;33m\u001b[0m\u001b[0m\n\u001b[0;32m      6\u001b[0m \u001b[0mos\u001b[0m\u001b[1;33m.\u001b[0m\u001b[0mgetcwd\u001b[0m\u001b[1;33m(\u001b[0m\u001b[1;33m)\u001b[0m\u001b[1;33m\u001b[0m\u001b[0m\n",
      "\u001b[1;31mFileNotFoundError\u001b[0m: [WinError 3] 系统找不到指定的路径。: ''"
     ]
    }
   ],
   "source": [
    "import os\n",
    "user = friends[0][\"PYQuanPin\"][0:]\n",
    "print(user)\n",
    "os.mkdir(user)\n",
    "os.chdir(user)\n",
    "os.getcwd()"
   ]
  },
  {
   "cell_type": "markdown",
   "metadata": {},
   "source": [
    "批量下载好友头像，储存到`friends[i]['img']`中。然后我们`print(friends[0]`看看有没有变化（正常情况下应该可以看到增加了img，以二进制方式储存头像）。因为我家网络经常链接失败，所以用`try...except...`来写这一段。\n",
    "\n",
    "`\"UserName\"`这个字段开头总有个@符号，直接暴力去除。如果不喜欢的话，可以把`\"UserName\"`换成`\"PYQuanPin\"`，不过不保证重名。\n",
    "\n",
    "同时把头像保存在`user`目录地下，方便下一步使用。\n",
    "\n",
    "### python使用open经常报错：TypeError: an integer is required的解决方案\n",
    "错误是由于从os模块引入了所有的函数导致的，os模块下有一个open函数，接受整型的文件描述符和打开模式，`from os import *`引入os模块的open函数，覆盖了python内建的open函数，导致错误。删除`from os import *`这行，然后再根据需要，指定引入os模块下的函数"
   ]
  },
  {
   "cell_type": "code",
   "execution_count": 7,
   "metadata": {
    "scrolled": true
   },
   "outputs": [],
   "source": [
    "for i in friends:\n",
    "    try:\n",
    "        i['img'] = itchat.get_head_img(userName=i[\"UserName\"])\n",
    "        i['ImgName']=i[\"UserName\"][1:] + \".jpg\"\n",
    "    except ConnectionError:\n",
    "        print('get '+i[\"UserName\"][1:]+' fail')\n",
    "    fileImage=open(i['ImgName'],'wb')\n",
    "    fileImage.write(i['img'])\n",
    "    fileImage.close()\n",
    "#这里不建议看friends[0]，太长了"
   ]
  },
  {
   "cell_type": "markdown",
   "metadata": {},
   "source": [
    "看看我有多少个好友（friends里面有多少条记录），看看下载了多少头像（`os.listdir(os.getcwd())`看目录底下有多少文件）"
   ]
  },
  {
   "cell_type": "code",
   "execution_count": 8,
   "metadata": {},
   "outputs": [
    {
     "name": "stdout",
     "output_type": "stream",
     "text": [
      "I have  341 friend(s), and I got  347 image(s)\n"
     ]
    }
   ],
   "source": [
    "friendsSum=len(friends)\n",
    "imgList=os.listdir(os.getcwd())\n",
    "numImages=len(imgList)\n",
    "print('I have ',friendsSum,'friend(s), and I got ',numImages,'image(s)')"
   ]
  },
  {
   "cell_type": "markdown",
   "metadata": {},
   "source": [
    "单个图像边长`eachsize=64`像素，一行`eachline=int(sqrt(numImages))+1`个头像，最终图像边长`eachSize*eachline`"
   ]
  },
  {
   "cell_type": "code",
   "execution_count": 9,
   "metadata": {},
   "outputs": [
    {
     "name": "stdout",
     "output_type": "stream",
     "text": [
      "单个图像边长 64 像素，一行 19 个头像，最终图像边长 1216\n"
     ]
    }
   ],
   "source": [
    "import math\n",
    "eachSize=64\n",
    "eachLine=int(math.sqrt(numImages))+1\n",
    "print(\"单个图像边长\",eachSize,\"像素，一行\",eachLine,\"个头像，最终图像边长\",eachSize*eachLine)"
   ]
  },
  {
   "cell_type": "markdown",
   "metadata": {},
   "source": [
    "import图像处理Python图像处理库：PIL中Image\n",
    "1. 新建一块画布\n",
    "2. 在坐标（0,0）位置放上第一个人头像\n",
    "3. 向右平移坐标"
   ]
  },
  {
   "cell_type": "code",
   "execution_count": 10,
   "metadata": {},
   "outputs": [
    {
     "name": "stdout",
     "output_type": "stream",
     "text": [
      "Error: 没有找到文件或读取文件失败 .ipynb_checkpoints\n",
      "Error: 没有找到文件或读取文件失败 2c5a6e6f32b1d30220f522cd56c7a2cd4f89955378284f1967a48c071b17fc31.jpg\n",
      "Error: 没有找到文件或读取文件失败 bd3dc193f560b73c8d4a0c9bdb54520faf23e76d196a75f24a60c5fd90aebc29.jpg\n",
      "Error: 没有找到文件或读取文件失败 README.md\n",
      "Error: 没有找到文件或读取文件失败 requirements.txt\n",
      "Error: 没有找到文件或读取文件失败 screenshots\n",
      "Error: 没有找到文件或读取文件失败 wxImage.ipynb\n",
      "Error: 没有找到文件或读取文件失败 wxImage.py\n",
      "图像拼接完成\n"
     ]
    }
   ],
   "source": [
    "import PIL.Image as Image\n",
    "toImage = Image.new('RGBA', (eachSize*eachLine,eachSize*eachLine))#新建一块画布\n",
    "x = 0\n",
    "y = 0\n",
    "for i in imgList:\n",
    "    try:\n",
    "        img = Image.open(i)#打开图片\n",
    "    except IOError:\n",
    "        print(\"Error: 没有找到文件或读取文件失败\",i)\n",
    "    else:\n",
    "        img = img.resize((eachSize, eachSize), Image.ANTIALIAS)#缩小图片\n",
    "        toImage.paste(img, (x * eachSize, y * eachSize))#拼接图片\n",
    "        x += 1\n",
    "    if x == eachLine:\n",
    "        x = 0\n",
    "        y += 1\n",
    "print(\"图像拼接完成\")"
   ]
  },
  {
   "cell_type": "markdown",
   "metadata": {},
   "source": [
    "看一下拼接好的图像是什么样的（注意文件过大是常有的现象，请先去掉注释）\n",
    "回到上一级目录（没人想在一堆文件里面找拼图吧？）\n",
    "然后保存文件，顺带发送给文件传输助手"
   ]
  },
  {
   "cell_type": "code",
   "execution_count": 11,
   "metadata": {},
   "outputs": [
    {
     "ename": "ValueError",
     "evalue": "unknown file extension: ",
     "output_type": "error",
     "traceback": [
      "\u001b[1;31m---------------------------------------------------------------------------\u001b[0m",
      "\u001b[1;31mKeyError\u001b[0m                                  Traceback (most recent call last)",
      "\u001b[1;32mC:\\ProgramData\\Anaconda3\\lib\\site-packages\\PIL\\Image.py\u001b[0m in \u001b[0;36msave\u001b[1;34m(self, fp, format, **params)\u001b[0m\n\u001b[0;32m   1914\u001b[0m             \u001b[1;32mtry\u001b[0m\u001b[1;33m:\u001b[0m\u001b[1;33m\u001b[0m\u001b[0m\n\u001b[1;32m-> 1915\u001b[1;33m                 \u001b[0mformat\u001b[0m \u001b[1;33m=\u001b[0m \u001b[0mEXTENSION\u001b[0m\u001b[1;33m[\u001b[0m\u001b[0mext\u001b[0m\u001b[1;33m]\u001b[0m\u001b[1;33m\u001b[0m\u001b[0m\n\u001b[0m\u001b[0;32m   1916\u001b[0m             \u001b[1;32mexcept\u001b[0m \u001b[0mKeyError\u001b[0m\u001b[1;33m:\u001b[0m\u001b[1;33m\u001b[0m\u001b[0m\n",
      "\u001b[1;31mKeyError\u001b[0m: ''",
      "\nDuring handling of the above exception, another exception occurred:\n",
      "\u001b[1;31mValueError\u001b[0m                                Traceback (most recent call last)",
      "\u001b[1;32m<ipython-input-11-0e668e0e28c2>\u001b[0m in \u001b[0;36m<module>\u001b[1;34m()\u001b[0m\n\u001b[0;32m      4\u001b[0m \u001b[0mos\u001b[0m\u001b[1;33m.\u001b[0m\u001b[0mgetcwd\u001b[0m\u001b[1;33m(\u001b[0m\u001b[1;33m)\u001b[0m\u001b[1;33m\u001b[0m\u001b[0m\n\u001b[0;32m      5\u001b[0m \u001b[1;33m\u001b[0m\u001b[0m\n\u001b[1;32m----> 6\u001b[1;33m \u001b[0mtoImage\u001b[0m\u001b[1;33m.\u001b[0m\u001b[0msave\u001b[0m\u001b[1;33m(\u001b[0m\u001b[0mfriends\u001b[0m\u001b[1;33m[\u001b[0m\u001b[1;36m0\u001b[0m\u001b[1;33m]\u001b[0m\u001b[1;33m[\u001b[0m\u001b[1;34m\"PYQuanPin\"\u001b[0m\u001b[1;33m]\u001b[0m\u001b[1;33m[\u001b[0m\u001b[1;36m0\u001b[0m\u001b[1;33m:\u001b[0m\u001b[1;33m]\u001b[0m\u001b[1;33m+\u001b[0m\u001b[1;34m\".jpg\"\u001b[0m\u001b[1;33m)\u001b[0m\u001b[1;33m\u001b[0m\u001b[0m\n\u001b[0m\u001b[0;32m      7\u001b[0m \u001b[0mitchat\u001b[0m\u001b[1;33m.\u001b[0m\u001b[0msend_image\u001b[0m\u001b[1;33m(\u001b[0m\u001b[0mfriends\u001b[0m\u001b[1;33m[\u001b[0m\u001b[1;36m0\u001b[0m\u001b[1;33m]\u001b[0m\u001b[1;33m[\u001b[0m\u001b[1;34m\"PYQuanPin\"\u001b[0m\u001b[1;33m]\u001b[0m\u001b[1;33m[\u001b[0m\u001b[1;36m0\u001b[0m\u001b[1;33m:\u001b[0m\u001b[1;33m]\u001b[0m\u001b[1;33m+\u001b[0m\u001b[1;34m\".jpg\"\u001b[0m\u001b[1;33m,\u001b[0m \u001b[1;34m'filehelper'\u001b[0m\u001b[1;33m)\u001b[0m\u001b[1;33m\u001b[0m\u001b[0m\n",
      "\u001b[1;32mC:\\ProgramData\\Anaconda3\\lib\\site-packages\\PIL\\Image.py\u001b[0m in \u001b[0;36msave\u001b[1;34m(self, fp, format, **params)\u001b[0m\n\u001b[0;32m   1915\u001b[0m                 \u001b[0mformat\u001b[0m \u001b[1;33m=\u001b[0m \u001b[0mEXTENSION\u001b[0m\u001b[1;33m[\u001b[0m\u001b[0mext\u001b[0m\u001b[1;33m]\u001b[0m\u001b[1;33m\u001b[0m\u001b[0m\n\u001b[0;32m   1916\u001b[0m             \u001b[1;32mexcept\u001b[0m \u001b[0mKeyError\u001b[0m\u001b[1;33m:\u001b[0m\u001b[1;33m\u001b[0m\u001b[0m\n\u001b[1;32m-> 1917\u001b[1;33m                 \u001b[1;32mraise\u001b[0m \u001b[0mValueError\u001b[0m\u001b[1;33m(\u001b[0m\u001b[1;34m'unknown file extension: {}'\u001b[0m\u001b[1;33m.\u001b[0m\u001b[0mformat\u001b[0m\u001b[1;33m(\u001b[0m\u001b[0mext\u001b[0m\u001b[1;33m)\u001b[0m\u001b[1;33m)\u001b[0m\u001b[1;33m\u001b[0m\u001b[0m\n\u001b[0m\u001b[0;32m   1918\u001b[0m \u001b[1;33m\u001b[0m\u001b[0m\n\u001b[0;32m   1919\u001b[0m         \u001b[1;32mif\u001b[0m \u001b[0mformat\u001b[0m\u001b[1;33m.\u001b[0m\u001b[0mupper\u001b[0m\u001b[1;33m(\u001b[0m\u001b[1;33m)\u001b[0m \u001b[1;32mnot\u001b[0m \u001b[1;32min\u001b[0m \u001b[0mSAVE\u001b[0m\u001b[1;33m:\u001b[0m\u001b[1;33m\u001b[0m\u001b[0m\n",
      "\u001b[1;31mValueError\u001b[0m: unknown file extension: "
     ]
    },
    {
     "name": "stderr",
     "output_type": "stream",
     "text": [
      "LOG OUT!\n"
     ]
    }
   ],
   "source": [
    "#toImage.show()\n",
    "\n",
    "os.chdir(os.path.pardir)\n",
    "os.getcwd()\n",
    "\n",
    "toImage.save(friends[0][\"PYQuanPin\"][0:]+\".jpg\")\n",
    "itchat.send_image(friends[0][\"PYQuanPin\"][0:]+\".jpg\", 'filehelper')"
   ]
  },
  {
   "cell_type": "markdown",
   "metadata": {},
   "source": [
    "至此，大功告成，别忘记退出网页版微信"
   ]
  },
  {
   "cell_type": "code",
   "execution_count": null,
   "metadata": {},
   "outputs": [],
   "source": [
    "itchat.logout()"
   ]
  },
  {
   "cell_type": "code",
   "execution_count": 8,
   "metadata": {},
   "outputs": [
    {
     "name": "stderr",
     "output_type": "stream",
     "text": [
      "itchat has already logged in.\n"
     ]
    },
    {
     "name": "stdout",
     "output_type": "stream",
     "text": [
      "greedisgood\n",
      "341\n",
      "34\n",
      "18\n",
      "Error: 没有找到文件或读取文件失败\n",
      "Error: 没有找到文件或读取文件失败\n"
     ]
    },
    {
     "data": {
      "text/plain": [
       "<ItchatReturnValue: {'BaseResponse': {'Ret': 0, 'ErrMsg': '请求成功', 'RawMsg': '请求成功'}, 'MsgID': '2934680590321596128', 'LocalID': '15318978609091'}>"
      ]
     },
     "execution_count": 8,
     "metadata": {},
     "output_type": "execute_result"
    }
   ],
   "source": [
    "import itchat\n",
    "import os\n",
    "\n",
    "import PIL.Image as Image\n",
    "from os import listdir\n",
    "import math\n",
    "\n",
    "itchat.auto_login()\n",
    "\n",
    "friends = itchat.get_friends(update=True)[0:]\n",
    "\n",
    "user = friends[0][\"NickName\"]\n",
    "\n",
    "print(user)\n",
    "\n",
    "os.mkdir(user)\n",
    "\n",
    "num = 0\n",
    "\n",
    "for i in friends:\n",
    "\timg = itchat.get_head_img(userName=i[\"UserName\"])\n",
    "\tfileImage = open(user + \"/\" + str(num) + \".jpg\",'wb')\n",
    "\tfileImage.write(img)\n",
    "\tfileImage.close()\n",
    "\tnum += 1\n",
    "\n",
    "pics = listdir(user)\n",
    "\n",
    "numPic = len(pics)\n",
    "\n",
    "print(numPic)\n",
    "\n",
    "eachsize = int(math.sqrt(float(640 * 640) / numPic))\n",
    "\n",
    "print(eachsize)\n",
    "\n",
    "numline = int(640 / eachsize)\n",
    "\n",
    "toImage = Image.new('RGB', (640, 640))\n",
    "\n",
    "\n",
    "print(numline)\n",
    "\n",
    "x = 0\n",
    "y = 0\n",
    "\n",
    "for i in pics:\n",
    "\ttry:\n",
    "\t\t#打开图片\n",
    "\t\timg = Image.open(user + \"/\" + i)\n",
    "\texcept IOError:\n",
    "\t\tprint(\"Error: 没有找到文件或读取文件失败\")\n",
    "\telse:\n",
    "\t\t#缩小图片\n",
    "\t\timg = img.resize((eachsize, eachsize), Image.ANTIALIAS)\n",
    "\t\t#拼接图片\n",
    "\t\ttoImage.paste(img, (x * eachsize, y * eachsize))\n",
    "\t\tx += 1\n",
    "\t\tif x == numline:\n",
    "\t\t\tx = 0\n",
    "\t\t\ty += 1\n",
    "\n",
    "\n",
    "toImage.save(user + \".jpg\")\n",
    "\n",
    "\n",
    "itchat.send_image(user + \".jpg\", 'filehelper')\n"
   ]
  },
  {
   "cell_type": "code",
   "execution_count": null,
   "metadata": {},
   "outputs": [],
   "source": []
  }
 ],
 "metadata": {
  "kernelspec": {
   "display_name": "Python 3",
   "language": "python",
   "name": "python3"
  },
  "language_info": {
   "codemirror_mode": {
    "name": "ipython",
    "version": 3
   },
   "file_extension": ".py",
   "mimetype": "text/x-python",
   "name": "python",
   "nbconvert_exporter": "python",
   "pygments_lexer": "ipython3",
   "version": "3.6.5"
  },
  "toc": {
   "base_numbering": 1,
   "nav_menu": {},
   "number_sections": true,
   "sideBar": true,
   "skip_h1_title": false,
   "title_cell": "Table of Contents",
   "title_sidebar": "Contents",
   "toc_cell": false,
   "toc_position": {},
   "toc_section_display": true,
   "toc_window_display": false
  }
 },
 "nbformat": 4,
 "nbformat_minor": 2
}

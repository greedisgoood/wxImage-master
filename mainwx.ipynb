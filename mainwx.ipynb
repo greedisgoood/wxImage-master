{
 "cells": [
  {
   "cell_type": "code",
   "execution_count": 5,
   "metadata": {},
   "outputs": [
    {
     "name": "stderr",
     "output_type": "stream",
     "text": [
      "itchat has already logged in.\n"
     ]
    },
    {
     "name": "stdout",
     "output_type": "stream",
     "text": [
      "greedisgood\n",
      "341\n",
      "138\n",
      "18\n",
      "Error: 没有找到文件或读取文件失败\n",
      "Error: 没有找到文件或读取文件失败\n"
     ]
    },
    {
     "data": {
      "text/plain": [
       "<ItchatReturnValue: {'BaseResponse': {'Ret': 0, 'ErrMsg': '请求成功', 'RawMsg': '请求成功'}, 'MsgID': '4859096019959574025', 'LocalID': '15319001889380'}>"
      ]
     },
     "execution_count": 5,
     "metadata": {},
     "output_type": "execute_result"
    }
   ],
   "source": [
    "import itchat\n",
    "import os\n",
    "\n",
    "import shutil\n",
    "import PIL.Image as Image\n",
    "from os import listdir\n",
    "import math\n",
    "\n",
    "itchat.auto_login()\n",
    "\n",
    "friends = itchat.get_friends(update=True)[0:]\n",
    "\n",
    "user = friends[0][\"NickName\"]\n",
    "\n",
    "print(user)\n",
    "#修改文件架权限\n",
    "#os.chmod(user，stat.S_IRWXO)\n",
    "\n",
    "if os.path.exists(user):\n",
    "    #删除原有目录\n",
    "    shutil.rmtree(user)\n",
    "    # 建立新目录\n",
    "    os.mkdir(user)\n",
    "    #os.rmdir(user)\n",
    "else:\n",
    "    #新建user目录\n",
    "    os.mkdir(user)\n",
    "\n",
    "num = 0\n",
    "\n",
    "for i in friends:\n",
    "\timg = itchat.get_head_img(userName=i[\"UserName\"])\n",
    "\tfileImage = open(user + \"/\" + str(num) + \".jpg\",'wb')\n",
    "\tfileImage.write(img)\n",
    "\tfileImage.close()\n",
    "\tnum += 1\n",
    "\n",
    "pics = listdir(user)\n",
    "\n",
    "numPic = len(pics)\n",
    "\n",
    "print(numPic)\n",
    "\n",
    "eachsize = int(math.sqrt(float(2560 * 2560) / numPic))\n",
    "\n",
    "print(eachsize)\n",
    "\n",
    "numline = int(2560 / eachsize)\n",
    "\n",
    "toImage = Image.new('RGB', (2560, 2560))\n",
    "\n",
    "\n",
    "print(numline)\n",
    "\n",
    "x = 0\n",
    "y = 0\n",
    "\n",
    "for i in pics:\n",
    "\ttry:\n",
    "\t\t#打开图片\n",
    "\t\timg = Image.open(user + \"/\" + i)\n",
    "\texcept IOError:\n",
    "\t\tprint(\"Error: 没有找到文件或读取文件失败\")\n",
    "\telse:\n",
    "\t\t#缩小图片\n",
    "\t\timg = img.resize((eachsize, eachsize), Image.ANTIALIAS)\n",
    "\t\t#拼接图片\n",
    "\t\ttoImage.paste(img, (x * eachsize, y * eachsize))\n",
    "\t\tx += 1\n",
    "\t\tif x == numline:\n",
    "\t\t\tx = 0\n",
    "\t\t\ty += 1\n",
    "\n",
    "\n",
    "toImage.save(user + \".jpg\")\n",
    "\n",
    "itchat.send_image(user + \".jpg\", 'filehelper')\n",
    "\n",
    "itchat.logout()"
   ]
  },
  {
   "cell_type": "code",
   "execution_count": null,
   "metadata": {},
   "outputs": [],
   "source": []
  }
 ],
 "metadata": {
  "kernelspec": {
   "display_name": "Python 3",
   "language": "python",
   "name": "python3"
  },
  "language_info": {
   "codemirror_mode": {
    "name": "ipython",
    "version": 3
   },
   "file_extension": ".py",
   "mimetype": "text/x-python",
   "name": "python",
   "nbconvert_exporter": "python",
   "pygments_lexer": "ipython3",
   "version": "3.6.5"
  },
  "toc": {
   "base_numbering": 1,
   "nav_menu": {},
   "number_sections": true,
   "sideBar": true,
   "skip_h1_title": false,
   "title_cell": "Table of Contents",
   "title_sidebar": "Contents",
   "toc_cell": false,
   "toc_position": {},
   "toc_section_display": true,
   "toc_window_display": false
  }
 },
 "nbformat": 4,
 "nbformat_minor": 2
}
